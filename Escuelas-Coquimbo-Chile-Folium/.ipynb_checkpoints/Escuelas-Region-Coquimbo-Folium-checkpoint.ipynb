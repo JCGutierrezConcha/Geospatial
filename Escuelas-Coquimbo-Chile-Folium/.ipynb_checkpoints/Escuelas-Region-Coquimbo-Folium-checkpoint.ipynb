{
 "cells": [
  {
   "cell_type": "markdown",
   "metadata": {},
   "source": [
    "## Localización de escuelas en comunas de Coquimbo y La Serena en Chile usando Folium."
   ]
  },
  {
   "cell_type": "code",
   "execution_count": 1,
   "metadata": {},
   "outputs": [],
   "source": [
    "import numpy as np\n",
    "import pandas as pd\n",
    "import matplotlib.pyplot as plt\n",
    "import seaborn as sns\n",
    "\n",
    "import warnings\n",
    "warnings.filterwarnings('ignore')"
   ]
  },
  {
   "cell_type": "markdown",
   "metadata": {},
   "source": [
    "###  1. Carga de datos.\n",
    "\n",
    "Se trabajará con la base de datos de establecimientos educacionales a nivel nacional,disponible en el sitio del Ministerio de Educación, en http://datos.mineduc.cl/dashboards/20015/descarga-bases-de-datos-directorio-de-establecimientos-educacionales/ \n",
    "\n",
    "Según lo señalado en el esquema de la base de datos (también disponible en el sitio señalado), las escuelas activas son aquellas con ESTADO_ESTAB=1 y MATRICULA=1, por lo que se realizará un filtro para selecionar aquellas escuelas que cumplen con estos criterios."
   ]
  },
  {
   "cell_type": "code",
   "execution_count": 2,
   "metadata": {},
   "outputs": [],
   "source": [
    "escuelas_chile= pd.read_csv(\"Directorio_Oficial_EE_2019.csv\", sep=';', encoding='UTF-8')"
   ]
  },
  {
   "cell_type": "code",
   "execution_count": 3,
   "metadata": {},
   "outputs": [
    {
     "data": {
      "text/plain": [
       "(16236, 37)"
      ]
     },
     "execution_count": 3,
     "metadata": {},
     "output_type": "execute_result"
    }
   ],
   "source": [
    "escuelas_chile.shape"
   ]
  },
  {
   "cell_type": "code",
   "execution_count": 4,
   "metadata": {},
   "outputs": [],
   "source": [
    "escuelas_activas = escuelas_chile[(escuelas_chile['ESTADO_ESTAB']==1) & (escuelas_chile['MATRICULA']==1)].reset_index(drop=True)"
   ]
  },
  {
   "cell_type": "code",
   "execution_count": 5,
   "metadata": {},
   "outputs": [
    {
     "data": {
      "text/plain": [
       "(11451, 37)"
      ]
     },
     "execution_count": 5,
     "metadata": {},
     "output_type": "execute_result"
    }
   ],
   "source": [
    "escuelas_activas.shape"
   ]
  },
  {
   "cell_type": "code",
   "execution_count": 6,
   "metadata": {},
   "outputs": [
    {
     "data": {
      "text/html": [
       "<div>\n",
       "<style scoped>\n",
       "    .dataframe tbody tr th:only-of-type {\n",
       "        vertical-align: middle;\n",
       "    }\n",
       "\n",
       "    .dataframe tbody tr th {\n",
       "        vertical-align: top;\n",
       "    }\n",
       "\n",
       "    .dataframe thead th {\n",
       "        text-align: right;\n",
       "    }\n",
       "</style>\n",
       "<table border=\"1\" class=\"dataframe\">\n",
       "  <thead>\n",
       "    <tr style=\"text-align: right;\">\n",
       "      <th></th>\n",
       "      <th>AGNO</th>\n",
       "      <th>RBD</th>\n",
       "      <th>DGV_RBD</th>\n",
       "      <th>NOM_RBD</th>\n",
       "      <th>MRUN</th>\n",
       "      <th>RUT_SOSTENEDOR</th>\n",
       "      <th>P_JURIDICA</th>\n",
       "      <th>COD_REG_RBD</th>\n",
       "      <th>NOM_REG_RBD_A</th>\n",
       "      <th>COD_PRO_RBD</th>\n",
       "      <th>...</th>\n",
       "      <th>ENS_08</th>\n",
       "      <th>ENS_09</th>\n",
       "      <th>ENS_10</th>\n",
       "      <th>ENS_11</th>\n",
       "      <th>MATRICULA</th>\n",
       "      <th>ESTADO_ESTAB</th>\n",
       "      <th>ORI_RELIGIOSA</th>\n",
       "      <th>ORI_OTRO_GLOSA</th>\n",
       "      <th>PAGO_MATRICULA</th>\n",
       "      <th>PAGO_MENSUAL</th>\n",
       "    </tr>\n",
       "  </thead>\n",
       "  <tbody>\n",
       "    <tr>\n",
       "      <th>0</th>\n",
       "      <td>2019</td>\n",
       "      <td>1</td>\n",
       "      <td>9</td>\n",
       "      <td>LICEO POLITECNICO ARICA</td>\n",
       "      <td></td>\n",
       "      <td>69010100</td>\n",
       "      <td>1</td>\n",
       "      <td>15</td>\n",
       "      <td>AYP</td>\n",
       "      <td>151</td>\n",
       "      <td>...</td>\n",
       "      <td>0</td>\n",
       "      <td>0</td>\n",
       "      <td>0</td>\n",
       "      <td>0</td>\n",
       "      <td>1</td>\n",
       "      <td>1</td>\n",
       "      <td>2</td>\n",
       "      <td></td>\n",
       "      <td>GRATUITO</td>\n",
       "      <td>GRATUITO</td>\n",
       "    </tr>\n",
       "    <tr>\n",
       "      <th>1</th>\n",
       "      <td>2019</td>\n",
       "      <td>2</td>\n",
       "      <td>7</td>\n",
       "      <td>PARVULARIO LAS ESPIGUITAS</td>\n",
       "      <td></td>\n",
       "      <td>69010100</td>\n",
       "      <td>1</td>\n",
       "      <td>15</td>\n",
       "      <td>AYP</td>\n",
       "      <td>151</td>\n",
       "      <td>...</td>\n",
       "      <td>0</td>\n",
       "      <td>0</td>\n",
       "      <td>0</td>\n",
       "      <td>0</td>\n",
       "      <td>1</td>\n",
       "      <td>1</td>\n",
       "      <td>2</td>\n",
       "      <td></td>\n",
       "      <td>GRATUITO</td>\n",
       "      <td>GRATUITO</td>\n",
       "    </tr>\n",
       "    <tr>\n",
       "      <th>2</th>\n",
       "      <td>2019</td>\n",
       "      <td>3</td>\n",
       "      <td>5</td>\n",
       "      <td>ESC. PEDRO VICENTE GUTIERREZ TORRES</td>\n",
       "      <td></td>\n",
       "      <td>69010100</td>\n",
       "      <td>1</td>\n",
       "      <td>15</td>\n",
       "      <td>AYP</td>\n",
       "      <td>151</td>\n",
       "      <td>...</td>\n",
       "      <td>0</td>\n",
       "      <td>0</td>\n",
       "      <td>0</td>\n",
       "      <td>0</td>\n",
       "      <td>1</td>\n",
       "      <td>1</td>\n",
       "      <td>1</td>\n",
       "      <td></td>\n",
       "      <td>GRATUITO</td>\n",
       "      <td>GRATUITO</td>\n",
       "    </tr>\n",
       "    <tr>\n",
       "      <th>3</th>\n",
       "      <td>2019</td>\n",
       "      <td>4</td>\n",
       "      <td>3</td>\n",
       "      <td>LICEO OCTAVIO PALMA PEREZ</td>\n",
       "      <td></td>\n",
       "      <td>69010100</td>\n",
       "      <td>1</td>\n",
       "      <td>15</td>\n",
       "      <td>AYP</td>\n",
       "      <td>151</td>\n",
       "      <td>...</td>\n",
       "      <td>0</td>\n",
       "      <td>0</td>\n",
       "      <td>0</td>\n",
       "      <td>0</td>\n",
       "      <td>1</td>\n",
       "      <td>1</td>\n",
       "      <td>1</td>\n",
       "      <td></td>\n",
       "      <td>GRATUITO</td>\n",
       "      <td>GRATUITO</td>\n",
       "    </tr>\n",
       "    <tr>\n",
       "      <th>4</th>\n",
       "      <td>2019</td>\n",
       "      <td>5</td>\n",
       "      <td>1</td>\n",
       "      <td>JOVINA NARANJO FERNANDEZ</td>\n",
       "      <td></td>\n",
       "      <td>69010100</td>\n",
       "      <td>1</td>\n",
       "      <td>15</td>\n",
       "      <td>AYP</td>\n",
       "      <td>151</td>\n",
       "      <td>...</td>\n",
       "      <td>0</td>\n",
       "      <td>0</td>\n",
       "      <td>0</td>\n",
       "      <td>0</td>\n",
       "      <td>1</td>\n",
       "      <td>1</td>\n",
       "      <td>7</td>\n",
       "      <td>PLURALISTA</td>\n",
       "      <td>GRATUITO</td>\n",
       "      <td>GRATUITO</td>\n",
       "    </tr>\n",
       "  </tbody>\n",
       "</table>\n",
       "<p>5 rows × 37 columns</p>\n",
       "</div>"
      ],
      "text/plain": [
       "   AGNO  RBD  DGV_RBD                              NOM_RBD MRUN  \\\n",
       "0  2019    1        9              LICEO POLITECNICO ARICA        \n",
       "1  2019    2        7            PARVULARIO LAS ESPIGUITAS        \n",
       "2  2019    3        5  ESC. PEDRO VICENTE GUTIERREZ TORRES        \n",
       "3  2019    4        3            LICEO OCTAVIO PALMA PEREZ        \n",
       "4  2019    5        1             JOVINA NARANJO FERNANDEZ        \n",
       "\n",
       "  RUT_SOSTENEDOR  P_JURIDICA  COD_REG_RBD NOM_REG_RBD_A  COD_PRO_RBD  ...  \\\n",
       "0       69010100           1           15           AYP          151  ...   \n",
       "1       69010100           1           15           AYP          151  ...   \n",
       "2       69010100           1           15           AYP          151  ...   \n",
       "3       69010100           1           15           AYP          151  ...   \n",
       "4       69010100           1           15           AYP          151  ...   \n",
       "\n",
       "   ENS_08 ENS_09  ENS_10 ENS_11  MATRICULA  ESTADO_ESTAB  ORI_RELIGIOSA  \\\n",
       "0       0      0       0      0          1             1              2   \n",
       "1       0      0       0      0          1             1              2   \n",
       "2       0      0       0      0          1             1              1   \n",
       "3       0      0       0      0          1             1              1   \n",
       "4       0      0       0      0          1             1              7   \n",
       "\n",
       "  ORI_OTRO_GLOSA PAGO_MATRICULA  PAGO_MENSUAL  \n",
       "0                      GRATUITO      GRATUITO  \n",
       "1                      GRATUITO      GRATUITO  \n",
       "2                      GRATUITO      GRATUITO  \n",
       "3                      GRATUITO      GRATUITO  \n",
       "4     PLURALISTA       GRATUITO      GRATUITO  \n",
       "\n",
       "[5 rows x 37 columns]"
      ]
     },
     "execution_count": 6,
     "metadata": {},
     "output_type": "execute_result"
    }
   ],
   "source": [
    "escuelas_activas.head()"
   ]
  },
  {
   "cell_type": "code",
   "execution_count": 7,
   "metadata": {},
   "outputs": [
    {
     "data": {
      "text/plain": [
       "Index(['AGNO', 'RBD', 'DGV_RBD', 'NOM_RBD', 'MRUN', 'RUT_SOSTENEDOR',\n",
       "       'P_JURIDICA', 'COD_REG_RBD', 'NOM_REG_RBD_A', 'COD_PRO_RBD',\n",
       "       'COD_COM_RBD', 'NOM_COM_RBD', 'COD_DEPROV_RBD', 'NOM_DEPROV_RBD',\n",
       "       'COD_DEPE', 'COD_DEPE2', 'RURAL_RBD', 'LATITUD', 'LONGITUD',\n",
       "       'CONVENIO_PIE', 'ENS_01', 'ENS_02', 'ENS_03', 'ENS_04', 'ENS_05',\n",
       "       'ENS_06', 'ENS_07', 'ENS_08', 'ENS_09', 'ENS_10', 'ENS_11', 'MATRICULA',\n",
       "       'ESTADO_ESTAB', 'ORI_RELIGIOSA', 'ORI_OTRO_GLOSA', 'PAGO_MATRICULA',\n",
       "       'PAGO_MENSUAL'],\n",
       "      dtype='object')"
      ]
     },
     "execution_count": 7,
     "metadata": {},
     "output_type": "execute_result"
    }
   ],
   "source": [
    "escuelas_activas.columns"
   ]
  },
  {
   "cell_type": "code",
   "execution_count": 8,
   "metadata": {},
   "outputs": [],
   "source": [
    "# Eliminación de columnas que no se utilizarán.\n",
    "escuelas_activas=escuelas_activas.drop(columns=['AGNO', 'RBD', 'DGV_RBD', 'MRUN', 'RUT_SOSTENEDOR','P_JURIDICA',\n",
    "                                                'NOM_REG_RBD_A', 'COD_PRO_RBD', 'COD_DEPROV_RBD', 'NOM_DEPROV_RBD',\n",
    "                                                'COD_DEPE', 'CONVENIO_PIE', 'ENS_01', 'ENS_02', 'ENS_03', 'ENS_04',\n",
    "                                                'ENS_05', 'ENS_06', 'ENS_07', 'ENS_08', 'ENS_09', 'ENS_10', 'ENS_11',\n",
    "                                                'MATRICULA','ESTADO_ESTAB', 'ORI_RELIGIOSA', 'ORI_OTRO_GLOSA',\n",
    "                                                'PAGO_MATRICULA','PAGO_MENSUAL'])"
   ]
  },
  {
   "cell_type": "code",
   "execution_count": 9,
   "metadata": {},
   "outputs": [
    {
     "data": {
      "text/plain": [
       "Index(['NOM_RBD', 'COD_REG_RBD', 'COD_COM_RBD', 'NOM_COM_RBD', 'COD_DEPE2',\n",
       "       'RURAL_RBD', 'LATITUD', 'LONGITUD'],\n",
       "      dtype='object')"
      ]
     },
     "execution_count": 9,
     "metadata": {},
     "output_type": "execute_result"
    }
   ],
   "source": [
    "escuelas_activas.columns"
   ]
  },
  {
   "cell_type": "code",
   "execution_count": 10,
   "metadata": {},
   "outputs": [],
   "source": [
    "# Renombrar regiones.\n",
    "escuelas_activas['COD_REG_RBD']=escuelas_activas['COD_REG_RBD'].replace([1,2,3,4,5,6,7,8,9,10,11,12,13,14,15,16],\n",
    "                           ['TARAPACA','ANTOFAGASTA','ATACAMA','COQUIMBO','VALPARAISO','OHIGGINS','MAULE','BIO-BIO','ARAUCANIA',\n",
    "                            'LOS LAGOS','AYSEN','MAGALLANES','METROPOLITANA','LOS RIOS','ARICA/PARINACOTA','ÑUBLE'])"
   ]
  },
  {
   "cell_type": "code",
   "execution_count": 11,
   "metadata": {},
   "outputs": [],
   "source": [
    "# Renombrar dependencia de la escuela.\n",
    "escuelas_activas['COD_DEPE2']=escuelas_activas['COD_DEPE2'].replace( [1,2,3,4,5],\n",
    "                                                                    ['MUNICIPAL','PARTICULAR SUBVENCIONADO','PARTICULAR PAGADO',\n",
    "                                                                     'CORP. ADMINISTRACION DELEGADA','SERVICIO LOCAL EDUCACION'])"
   ]
  },
  {
   "cell_type": "code",
   "execution_count": 12,
   "metadata": {},
   "outputs": [],
   "source": [
    "# Renombrar columnas.\n",
    "escuelas_activas.rename(columns={'NOM_RBD': 'Nombre_Escuela','COD_REG_RBD':'Region', 'COD_COM_RBD' :'Cod_Comuna',\n",
    "                                 'NOM_COM_RBD': 'Comuna', 'COD_DEPE2' :'Dependencia', 'RURAL_RBD':'Rural',\n",
    "                                 'LATITUD':'Latitud', 'LONGITUD' :'Longitud'}, inplace=True)"
   ]
  },
  {
   "cell_type": "code",
   "execution_count": 13,
   "metadata": {},
   "outputs": [
    {
     "data": {
      "text/html": [
       "<div>\n",
       "<style scoped>\n",
       "    .dataframe tbody tr th:only-of-type {\n",
       "        vertical-align: middle;\n",
       "    }\n",
       "\n",
       "    .dataframe tbody tr th {\n",
       "        vertical-align: top;\n",
       "    }\n",
       "\n",
       "    .dataframe thead th {\n",
       "        text-align: right;\n",
       "    }\n",
       "</style>\n",
       "<table border=\"1\" class=\"dataframe\">\n",
       "  <thead>\n",
       "    <tr style=\"text-align: right;\">\n",
       "      <th></th>\n",
       "      <th>Nombre_Escuela</th>\n",
       "      <th>Region</th>\n",
       "      <th>Cod_Comuna</th>\n",
       "      <th>Comuna</th>\n",
       "      <th>Dependencia</th>\n",
       "      <th>Rural</th>\n",
       "      <th>Latitud</th>\n",
       "      <th>Longitud</th>\n",
       "    </tr>\n",
       "  </thead>\n",
       "  <tbody>\n",
       "    <tr>\n",
       "      <th>0</th>\n",
       "      <td>LICEO POLITECNICO ARICA</td>\n",
       "      <td>ARICA/PARINACOTA</td>\n",
       "      <td>15101</td>\n",
       "      <td>ARICA</td>\n",
       "      <td>MUNICIPAL</td>\n",
       "      <td>0</td>\n",
       "      <td>-18,487274170000</td>\n",
       "      <td>-70,294738770000</td>\n",
       "    </tr>\n",
       "    <tr>\n",
       "      <th>1</th>\n",
       "      <td>PARVULARIO LAS ESPIGUITAS</td>\n",
       "      <td>ARICA/PARINACOTA</td>\n",
       "      <td>15101</td>\n",
       "      <td>ARICA</td>\n",
       "      <td>MUNICIPAL</td>\n",
       "      <td>0</td>\n",
       "      <td>-18,469861980000</td>\n",
       "      <td>-70,302757260000</td>\n",
       "    </tr>\n",
       "    <tr>\n",
       "      <th>2</th>\n",
       "      <td>ESC. PEDRO VICENTE GUTIERREZ TORRES</td>\n",
       "      <td>ARICA/PARINACOTA</td>\n",
       "      <td>15101</td>\n",
       "      <td>ARICA</td>\n",
       "      <td>MUNICIPAL</td>\n",
       "      <td>1</td>\n",
       "      <td>-18,503580090000</td>\n",
       "      <td>-70,260826110000</td>\n",
       "    </tr>\n",
       "    <tr>\n",
       "      <th>3</th>\n",
       "      <td>LICEO OCTAVIO PALMA PEREZ</td>\n",
       "      <td>ARICA/PARINACOTA</td>\n",
       "      <td>15101</td>\n",
       "      <td>ARICA</td>\n",
       "      <td>MUNICIPAL</td>\n",
       "      <td>0</td>\n",
       "      <td>-18,474243160000</td>\n",
       "      <td>-70,308265690000</td>\n",
       "    </tr>\n",
       "    <tr>\n",
       "      <th>4</th>\n",
       "      <td>JOVINA NARANJO FERNANDEZ</td>\n",
       "      <td>ARICA/PARINACOTA</td>\n",
       "      <td>15101</td>\n",
       "      <td>ARICA</td>\n",
       "      <td>MUNICIPAL</td>\n",
       "      <td>0</td>\n",
       "      <td>-18,476903920000</td>\n",
       "      <td>-70,313453670000</td>\n",
       "    </tr>\n",
       "  </tbody>\n",
       "</table>\n",
       "</div>"
      ],
      "text/plain": [
       "                        Nombre_Escuela            Region  Cod_Comuna Comuna  \\\n",
       "0              LICEO POLITECNICO ARICA  ARICA/PARINACOTA       15101  ARICA   \n",
       "1            PARVULARIO LAS ESPIGUITAS  ARICA/PARINACOTA       15101  ARICA   \n",
       "2  ESC. PEDRO VICENTE GUTIERREZ TORRES  ARICA/PARINACOTA       15101  ARICA   \n",
       "3            LICEO OCTAVIO PALMA PEREZ  ARICA/PARINACOTA       15101  ARICA   \n",
       "4             JOVINA NARANJO FERNANDEZ  ARICA/PARINACOTA       15101  ARICA   \n",
       "\n",
       "  Dependencia  Rural           Latitud          Longitud  \n",
       "0   MUNICIPAL      0  -18,487274170000  -70,294738770000  \n",
       "1   MUNICIPAL      0  -18,469861980000  -70,302757260000  \n",
       "2   MUNICIPAL      1  -18,503580090000  -70,260826110000  \n",
       "3   MUNICIPAL      0  -18,474243160000  -70,308265690000  \n",
       "4   MUNICIPAL      0  -18,476903920000  -70,313453670000  "
      ]
     },
     "execution_count": 13,
     "metadata": {},
     "output_type": "execute_result"
    }
   ],
   "source": [
    "escuelas_activas.head()"
   ]
  },
  {
   "cell_type": "code",
   "execution_count": 14,
   "metadata": {},
   "outputs": [],
   "source": [
    "escuelas_activas['Latitud'] = escuelas_activas['Latitud'].str.replace(\",\", \".\")\n",
    "escuelas_activas['Longitud'] = escuelas_activas['Longitud'].str.replace(\",\", \".\")\n",
    "escuelas_activas['Latitud'] = pd.to_numeric(escuelas_activas['Latitud'], errors='coerce')\n",
    "escuelas_activas['Longitud'] = pd.to_numeric(escuelas_activas['Longitud'], errors='coerce')"
   ]
  },
  {
   "cell_type": "code",
   "execution_count": 15,
   "metadata": {},
   "outputs": [
    {
     "name": "stdout",
     "output_type": "stream",
     "text": [
      "<class 'pandas.core.frame.DataFrame'>\n",
      "RangeIndex: 11451 entries, 0 to 11450\n",
      "Data columns (total 8 columns):\n",
      "Nombre_Escuela    11451 non-null object\n",
      "Region            11451 non-null object\n",
      "Cod_Comuna        11451 non-null int64\n",
      "Comuna            11451 non-null object\n",
      "Dependencia       11451 non-null object\n",
      "Rural             11451 non-null int64\n",
      "Latitud           11435 non-null float64\n",
      "Longitud          11435 non-null float64\n",
      "dtypes: float64(2), int64(2), object(4)\n",
      "memory usage: 715.8+ KB\n"
     ]
    }
   ],
   "source": [
    "escuelas_activas.info()"
   ]
  },
  {
   "cell_type": "code",
   "execution_count": 16,
   "metadata": {},
   "outputs": [
    {
     "data": {
      "text/plain": [
       "Nombre_Escuela     0\n",
       "Region             0\n",
       "Cod_Comuna         0\n",
       "Comuna             0\n",
       "Dependencia        0\n",
       "Rural              0\n",
       "Latitud           16\n",
       "Longitud          16\n",
       "dtype: int64"
      ]
     },
     "execution_count": 16,
     "metadata": {},
     "output_type": "execute_result"
    }
   ],
   "source": [
    "# Identificar columnas con datos faltantes.\n",
    "escuelas_activas.isna().sum()"
   ]
  },
  {
   "cell_type": "code",
   "execution_count": 17,
   "metadata": {},
   "outputs": [],
   "source": [
    "# Eliminación de observaciones con datos faltantes.\n",
    "escuelas_activas=escuelas_activas.dropna().reset_index(drop=True)"
   ]
  },
  {
   "cell_type": "markdown",
   "metadata": {},
   "source": [
    "###  2. Visualización de datos."
   ]
  },
  {
   "cell_type": "markdown",
   "metadata": {},
   "source": [
    "#### 2.1 Cantidad de escuelas por región."
   ]
  },
  {
   "cell_type": "code",
   "execution_count": 18,
   "metadata": {},
   "outputs": [
    {
     "data": {
      "image/png": "[encoded data removed]",
      "text/plain": [
       "<Figure size 720x360 with 1 Axes>"
      ]
     },
     "metadata": {},
     "output_type": "display_data"
    }
   ],
   "source": [
    "plt.figure(figsize=(10,5))\n",
    "sns.countplot(y=escuelas_activas['Region'],data=escuelas_activas, order=escuelas_activas['Region'].value_counts().index)\n",
    "plt.xlabel('Cantidad')\n",
    "plt.title(\"Cantidad de Escuelas Activas por Región\\n\");"
   ]
  },
  {
   "cell_type": "markdown",
   "metadata": {},
   "source": [
    "#### 2.2 Cantidad de escuelas por tipo de dependencia."
   ]
  },
  {
   "cell_type": "code",
   "execution_count": 19,
   "metadata": {},
   "outputs": [
    {
     "data": {
      "image/png": "[encoded data removed]",
      "text/plain": [
       "<Figure size 720x288 with 1 Axes>"
      ]
     },
     "metadata": {},
     "output_type": "display_data"
    }
   ],
   "source": [
    "plt.figure(figsize=(10,4))\n",
    "sns.countplot(y=escuelas_activas['Dependencia'],data=escuelas_activas, order=escuelas_activas['Dependencia'].value_counts().index)\n",
    "plt.xlabel('Cantidad')\n",
    "plt.title(\"Cantidad de Escuelas Activas por Dependencia\\n\");"
   ]
  },
  {
   "cell_type": "markdown",
   "metadata": {},
   "source": [
    "### 3. Mapas con escuelas en comunas de Coquimbo y La Serena usando Folium."
   ]
  },
  {
   "cell_type": "code",
   "execution_count": 20,
   "metadata": {},
   "outputs": [],
   "source": [
    "# Selección de datos correspondientes a la comuna de Coquimbo y La Serena.\n",
    "data_mapas=escuelas_activas[(escuelas_activas['Comuna']=='COQUIMBO') | (escuelas_activas['Comuna']=='LA SERENA') ]"
   ]
  },
  {
   "cell_type": "code",
   "execution_count": 21,
   "metadata": {},
   "outputs": [],
   "source": [
    "import folium\n",
    "from folium import Marker, Circle, Choropleth \n",
    "from folium.plugins import HeatMap"
   ]
  },
  {
   "cell_type": "code",
   "execution_count": 22,
   "metadata": {},
   "outputs": [],
   "source": [
    "# Función para grabar y mostrar mapas.\n",
    "'''Esta función fue obtenida del curso Geospatial Analysis de Kaggle'''\n",
    "\n",
    "def embed_map(m, file_name):\n",
    "    from IPython.display import IFrame\n",
    "    m.save(file_name)\n",
    "    return IFrame(file_name, width='100%', height='500px')"
   ]
  },
  {
   "cell_type": "markdown",
   "metadata": {},
   "source": [
    "#### 3.1 Elaboración de Heatmap.\n",
    "\n",
    "Con Heatmap (Mapa de Calor) es posible visualizar las zonas en que se concentran mayor o menor cantidad de escuelas en el territorio."
   ]
  },
  {
   "cell_type": "code",
   "execution_count": 23,
   "metadata": {},
   "outputs": [
    {
     "data": {
      "text/html": [
       "\n",
       "        <iframe\n",
       "            width=\"100%\"\n",
       "            height=\"500px\"\n",
       "            src=\"rg_coquimbo_1.html\"\n",
       "            frameborder=\"0\"\n",
       "            allowfullscreen\n",
       "        ></iframe>\n",
       "        "
      ],
      "text/plain": [
       "<IPython.lib.display.IFrame at 0x20a203902b0>"
      ]
     },
     "execution_count": 23,
     "metadata": {},
     "output_type": "execute_result"
    }
   ],
   "source": [
    "# Crer mapa base\n",
    "m_1 = folium.Map(location=[-29.9327, -71.252], tiles='cartodbpositron', zoom_start=12)\n",
    "\n",
    "# Agregar heatmap al mapa base\n",
    "HeatMap(data=data_mapas[['Latitud', 'Longitud']], radius=10).add_to(m_1)\n",
    "\n",
    "# Grabar y ver mapa\n",
    "embed_map(m_1, 'rg_coquimbo_1.html')"
   ]
  },
  {
   "cell_type": "markdown",
   "metadata": {},
   "source": [
    "#### 3.2 Elaboración de Bubble Map.\n",
    "\n",
    "Con Bubble Map(Mapa de Burbuja) es posible identificar los distintos tipos de establecimientos segun su dependencia (u otra variable), utilizando diferentes colores de las burbujas.\n",
    "\n",
    "En este caso se ha definido los siguientes colores, según la dependencia:\n",
    "\n",
    "- Municipal: Azul.\n",
    "- Particular Subvencionado: Rojo.\n",
    "- Particular Pagado: Amarillo.\n",
    "- Servicio Local de Educación: Negro.\n",
    "- Corp. Administracion Delegada: Verde."
   ]
  },
  {
   "cell_type": "code",
   "execution_count": 24,
   "metadata": {
    "scrolled": true
   },
   "outputs": [
    {
     "data": {
      "text/html": [
       "\n",
       "        <iframe\n",
       "            width=\"100%\"\n",
       "            height=\"500px\"\n",
       "            src=\"rg_coquimbo_2.html\"\n",
       "            frameborder=\"0\"\n",
       "            allowfullscreen\n",
       "        ></iframe>\n",
       "        "
      ],
      "text/plain": [
       "<IPython.lib.display.IFrame at 0x20a1ed72390>"
      ]
     },
     "execution_count": 24,
     "metadata": {},
     "output_type": "execute_result"
    }
   ],
   "source": [
    "# Crer mapa base\n",
    "m_2 = folium.Map(location=[-29.9327, -71.252], zoom_start=12)\n",
    "\n",
    "\n",
    "# Función de identificación de escuelas, por colores, según dependencia.\n",
    "def color_producer(val):\n",
    "    if val == 'MUNICIPAL':\n",
    "        return 'blue'\n",
    "    elif val == 'PARTICULAR SUBVENCIONADO':\n",
    "        return 'red'\n",
    "    elif val == 'PARTICULAR PAGADO':\n",
    "        return 'yellow'\n",
    "    elif val == 'SERVICIO LOCAL EDUCACION':\n",
    "        return 'black'    \n",
    "    else:\n",
    "        return 'green'\n",
    "\n",
    "# Agregar mapa de burbuja al mapa base\n",
    "for idx, row in data_mapas.iterrows():\n",
    "    Circle(\n",
    "        location=[row['Latitud'], row['Longitud']],\n",
    "        radius=50,\n",
    "        color=color_producer(row['Dependencia'])).add_to(m_2)\n",
    "\n",
    "# Grabar y ver mapa\n",
    "embed_map(m_2, 'rg_coquimbo_2.html')"
   ]
  },
  {
   "cell_type": "markdown",
   "metadata": {},
   "source": [
    "#### 3.3 Incorporación de Marker con Popup.\n",
    "\n",
    "Con un Marker (Marcador) ers posible localizar las escuelas en el mapa y al agregar una popup (ventana emergente) se entrega información específica de cada escuela, la que se despliega al pinchar el Marker respectivo. En este caso se ha agregado el nombre de cada escuela en el popup.\n",
    "\n",
    "Se han confeccionado dos mapas, el primero con los datos de las escuelas dependientes de un Servicio Local de Educación y el segundo con establecimientos particular pagados."
   ]
  },
  {
   "cell_type": "markdown",
   "metadata": {},
   "source": [
    "#### 3.3.1 Mapa con escuelas dependientes de Servivio Local de Educación."
   ]
  },
  {
   "cell_type": "code",
   "execution_count": 25,
   "metadata": {},
   "outputs": [],
   "source": [
    "# Seleccion de datos asociados a Servicio Local de Educación \n",
    "data_servicio_local=data_mapas[data_mapas['Dependencia'] == 'SERVICIO LOCAL EDUCACION']"
   ]
  },
  {
   "cell_type": "code",
   "execution_count": 26,
   "metadata": {},
   "outputs": [
    {
     "data": {
      "text/html": [
       "\n",
       "        <iframe\n",
       "            width=\"100%\"\n",
       "            height=\"500px\"\n",
       "            src=\"rg_coquimbo_3.html\"\n",
       "            frameborder=\"0\"\n",
       "            allowfullscreen\n",
       "        ></iframe>\n",
       "        "
      ],
      "text/plain": [
       "<IPython.lib.display.IFrame at 0x20a1ed38710>"
      ]
     },
     "execution_count": 26,
     "metadata": {},
     "output_type": "execute_result"
    }
   ],
   "source": [
    "# Crer mapa base\n",
    "m_3 = folium.Map(location=[-29.9627, -71.252], zoom_start=12)\n",
    "\n",
    "# Agregar Marker con popup al mapa base\n",
    "for idx, row in data_servicio_local.iterrows():\n",
    "    localiza=[row['Latitud'], row['Longitud']]\n",
    "    Marker(location=localiza, popup=row['Nombre_Escuela']).add_to(m_3)\n",
    "        \n",
    "# Grabar y ver mapa\n",
    "embed_map(m_3, \"rg_coquimbo_3.html\")"
   ]
  },
  {
   "cell_type": "markdown",
   "metadata": {},
   "source": [
    "#### 3.3.2 Mapa con establecimientos particular pagados."
   ]
  },
  {
   "cell_type": "code",
   "execution_count": 27,
   "metadata": {},
   "outputs": [],
   "source": [
    "# Seleccion de datos establecimientos particular pagados \n",
    "data_particular_pagado=data_mapas[data_mapas['Dependencia'] == 'PARTICULAR PAGADO']"
   ]
  },
  {
   "cell_type": "code",
   "execution_count": 28,
   "metadata": {
    "scrolled": true
   },
   "outputs": [
    {
     "data": {
      "text/html": [
       "\n",
       "        <iframe\n",
       "            width=\"100%\"\n",
       "            height=\"500px\"\n",
       "            src=\"rg_coquimbo_4.html\"\n",
       "            frameborder=\"0\"\n",
       "            allowfullscreen\n",
       "        ></iframe>\n",
       "        "
      ],
      "text/plain": [
       "<IPython.lib.display.IFrame at 0x20a204efa58>"
      ]
     },
     "execution_count": 28,
     "metadata": {},
     "output_type": "execute_result"
    }
   ],
   "source": [
    "# Crer mapa base\n",
    "m_4 = folium.Map(location=[-29.9527, -71.252], zoom_start=12)\n",
    "\n",
    "# Agregar Marker con popup al mapa base\n",
    "for idx, row in data_particular_pagado.iterrows():\n",
    "    localiza=[row['Latitud'], row['Longitud']]\n",
    "    Marker(location=localiza, popup=row['Nombre_Escuela']).add_to(m_4)\n",
    "        \n",
    "# Grabar y ver mapa\n",
    "embed_map(m_4, \"rg_coquimbo_4.html\")"
   ]
  }
 ],
 "metadata": {
  "kernelspec": {
   "display_name": "Python 3",
   "language": "python",
   "name": "python3"
  },
  "language_info": {
   "codemirror_mode": {
    "name": "ipython",
    "version": 3
   },
   "file_extension": ".py",
   "mimetype": "text/x-python",
   "name": "python",
   "nbconvert_exporter": "python",
   "pygments_lexer": "ipython3",
   "version": "3.6.5"
  }
 },
 "nbformat": 4,
 "nbformat_minor": 2
}
